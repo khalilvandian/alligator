{
 "cells": [
  {
   "cell_type": "code",
   "execution_count": null,
   "id": "447e2493",
   "metadata": {},
   "outputs": [],
   "source": [
    "import pandas as pd\n",
    "import requests\n",
    "from dotenv import load_dotenv\n",
    "import os"
   ]
  },
  {
   "cell_type": "code",
   "execution_count": 2,
   "id": "636ca283",
   "metadata": {},
   "outputs": [],
   "source": [
    "data_path = \"../Data/non_missing_company_data.csv\""
   ]
  },
  {
   "cell_type": "code",
   "execution_count": 3,
   "id": "f932c576",
   "metadata": {},
   "outputs": [],
   "source": [
    "gh_data = pd.read_csv(data_path)"
   ]
  },
  {
   "cell_type": "code",
   "execution_count": 4,
   "id": "77bcc7cd",
   "metadata": {},
   "outputs": [
    {
     "data": {
      "text/html": [
       "<div>\n",
       "<style scoped>\n",
       "    .dataframe tbody tr th:only-of-type {\n",
       "        vertical-align: middle;\n",
       "    }\n",
       "\n",
       "    .dataframe tbody tr th {\n",
       "        vertical-align: top;\n",
       "    }\n",
       "\n",
       "    .dataframe thead th {\n",
       "        text-align: right;\n",
       "    }\n",
       "</style>\n",
       "<table border=\"1\" class=\"dataframe\">\n",
       "  <thead>\n",
       "    <tr style=\"text-align: right;\">\n",
       "      <th></th>\n",
       "      <th>company</th>\n",
       "      <th>website</th>\n",
       "      <th>bio</th>\n",
       "    </tr>\n",
       "  </thead>\n",
       "  <tbody>\n",
       "    <tr>\n",
       "      <th>0</th>\n",
       "      <td>CallitAbhi</td>\n",
       "      <td>https://www.callitabhi.com/</td>\n",
       "      <td>Former Deep Learning Intern |  Lead Programmer...</td>\n",
       "    </tr>\n",
       "    <tr>\n",
       "      <th>1</th>\n",
       "      <td>Sarvajanik College of Engineering &amp; Technology</td>\n",
       "      <td>NaN</td>\n",
       "      <td>NaN</td>\n",
       "    </tr>\n",
       "    <tr>\n",
       "      <th>2</th>\n",
       "      <td>IIT Guwahati</td>\n",
       "      <td>https://abhinav3.github.io/</td>\n",
       "      <td>Machine learning &amp; Deep Learning Practitioner....</td>\n",
       "    </tr>\n",
       "    <tr>\n",
       "      <th>3</th>\n",
       "      <td>KTH Royal Insitute Of Technology</td>\n",
       "      <td>https://www.linkedin.com/in/adithya-u-r-795866...</td>\n",
       "      <td>IoT | Deep Learning | Machine Learning | Embed...</td>\n",
       "    </tr>\n",
       "    <tr>\n",
       "      <th>4</th>\n",
       "      <td>Tata Consultancy Services</td>\n",
       "      <td>NaN</td>\n",
       "      <td>Machine Learning Enthusiast and loves to innov...</td>\n",
       "    </tr>\n",
       "  </tbody>\n",
       "</table>\n",
       "</div>"
      ],
      "text/plain": [
       "                                          company  \\\n",
       "0                                      CallitAbhi   \n",
       "1  Sarvajanik College of Engineering & Technology   \n",
       "2                                    IIT Guwahati   \n",
       "3                KTH Royal Insitute Of Technology   \n",
       "4                       Tata Consultancy Services   \n",
       "\n",
       "                                             website  \\\n",
       "0                        https://www.callitabhi.com/   \n",
       "1                                                NaN   \n",
       "2                        https://abhinav3.github.io/   \n",
       "3  https://www.linkedin.com/in/adithya-u-r-795866...   \n",
       "4                                                NaN   \n",
       "\n",
       "                                                 bio  \n",
       "0  Former Deep Learning Intern |  Lead Programmer...  \n",
       "1                                                NaN  \n",
       "2  Machine learning & Deep Learning Practitioner....  \n",
       "3  IoT | Deep Learning | Machine Learning | Embed...  \n",
       "4  Machine Learning Enthusiast and loves to innov...  "
      ]
     },
     "execution_count": 4,
     "metadata": {},
     "output_type": "execute_result"
    }
   ],
   "source": [
    "# select needed columns\n",
    "gh_data = gh_data[[\"company\", \"website\", \"bio\"]]\n",
    "gh_data.head()"
   ]
  },
  {
   "cell_type": "code",
   "execution_count": 5,
   "id": "447f746f",
   "metadata": {},
   "outputs": [
    {
     "name": "stdout",
     "output_type": "stream",
     "text": [
      "|        | company                                                                  |\n",
      "|-------:|:-------------------------------------------------------------------------|\n",
      "| 215941 | TU Darmstadt                                                             |\n",
      "| 149095 | Ecole Supérieure d'Informatique Salama - ESIS                            |\n",
      "|  30998 | Prompsit SL                                                              |\n",
      "|  27474 | Bielefeld University                                                     |\n",
      "|  81154 | IFI tech Solutions                                                       |\n",
      "|  44977 | MEPhI                                                                    |\n",
      "|  50315 | Data Scientist & Analyst                                                 |\n",
      "| 156653 | Microsoft                                                                |\n",
      "| 116740 | Matson Navigation                                                        |\n",
      "|   7714 | Forum Ventures                                                           |\n",
      "| 181083 | TOYOTA Motor Corporation                                                 |\n",
      "| 193482 | UC Berkeley | Georgia Tech                                               |\n",
      "| 125690 | Facebook                                                                 |\n",
      "|  35129 | STEMCstudio                                                              |\n",
      "|  63717 | intern at Coolage app                                                    |\n",
      "| 132861 | @NVIDIA                                                                  |\n",
      "| 166752 | University of Brasília                                                   |\n",
      "|  98690 | HCMUT                                                                    |\n",
      "|  79043 | Lockheed Martin                                                          |\n",
      "|  96592 | University of Wisconsin-Madison                                          |\n",
      "| 108911 | Aareon Group                                                             |\n",
      "|  66395 | Walter and Eliza Hall Institute of Medical Research                      |\n",
      "| 135770 | Duke University                                                          |\n",
      "| 124803 | UIC                                                                      |\n",
      "|  90072 | Centric                                                                  |\n",
      "|  61178 | Dotmoovs                                                                 |\n",
      "|  27208 | Indian Institute of Technology, Hyderabad                                |\n",
      "|  60915 | Weights & Biases                                                         |\n",
      "|  12393 | Software Developer @ E&M Technologies                                    |\n",
      "|  77810 | Hacettepe University                                                     |\n",
      "| 127667 | Pontificia Universidad Católica de Valparaíso                            |\n",
      "| 176549 | Barclays                                                                 |\n",
      "|  24537 | Lamour                                                                   |\n",
      "| 191567 | Mandillah                                                                |\n",
      "|  37776 | Viacom18 Media Pvt Ltd                                                   |\n",
      "| 162220 | Default.com                                                              |\n",
      "|  76838 | Indian Institute of Technology, Delhi                                    |\n",
      "| 186792 | Machine Learning Reply                                                   |\n",
      "| 208399 | FIS global solutions                                                     |\n",
      "| 147590 | Wharton                                                                  |\n",
      "|  60439 | @zumbeedo @especialize-apps                                              |\n",
      "| 153751 | Neuraspike                                                               |\n",
      "|  32783 | University of Wolverhampton                                              |\n",
      "|  48362 | XenoImpact                                                               |\n",
      "|  73759 | LY corp. & Hosei University                                              |\n",
      "|  50145 | Wonolo                                                                   |\n",
      "| 128868 | @Tripplo-Software                                                        |\n",
      "| 177255 | Sarvajanik College of Engineering and Technology, Surat                  |\n",
      "|  85143 | CWXSTAT INC                                                              |\n",
      "| 170507 | Vibracoustic SE & Co. KG                                                 |\n",
      "| 170986 | Nunam                                                                    |\n",
      "| 212999 | GXU                                                                      |\n",
      "|  42727 | Zygo                                                                     |\n",
      "| 174466 | Nference                                                                 |\n",
      "|  68540 | University of Cincinnati                                                 |\n",
      "| 152570 | CodeHunters Lab                                                          |\n",
      "| 104397 | nesine.com                                                               |\n",
      "|  14458 | @rs2lab                                                                  |\n",
      "|  68390 | ViaCognita                                                               |\n",
      "| 198776 | WorkingClassCode                                                         |\n",
      "|  42919 | Deggendorf Institute of Technology                                       |\n",
      "|  76002 | Jaypee Institute of Information Technology                               |\n",
      "| 174015 | Amazon                                                                   |\n",
      "| 143405 | TCS                                                                      |\n",
      "| 143273 | Shanghai Artificial Intelligence Laboratory                              |\n",
      "| 105881 | Ubiquitous Computing Laboratory                                          |\n",
      "|  81133 | JP Morgan Chase                                                          |\n",
      "| 180317 | Ingeni-us Engineering                                                    |\n",
      "|  95576 | @LMSCloud                                                                |\n",
      "| 219546 | Polytechnique Montreal                                                   |\n",
      "|  74898 | St. Vincent's Institute of Medical Research; The University of Melbourne |\n",
      "|  64307 | SUPSI                                                                    |\n",
      "| 149999 | Python Instructions                                                      |\n",
      "| 184411 | State University of Norte Fluminense Darcy Ribeiro                       |\n",
      "| 144778 | I will start                                                             |\n",
      "|  89492 | abdulkabirojulari.com                                                    |\n",
      "| 209674 | UCSD,emory university                                                    |\n",
      "| 166123 | Uptop                                                                    |\n",
      "|  86975 | Graduated from Benha ,Faculty of Computers and Artificial Intelligence   |\n",
      "| 118839 | Scientia Capital                                                         |\n",
      "|  13194 | University College London                                                |\n",
      "| 117811 | Kalki                                                                    |\n",
      "| 208681 | XIdian University -> Santa Clara University                              |\n",
      "|  53312 | Netaji Subhas University of Technology @nsut                             |\n",
      "|  90395 | NVIDIA                                                                   |\n",
      "| 153546 | Space Science and Engineering Center, UW-Madison                         |\n",
      "| 142046 | wersel.io                                                                |\n",
      "|  54557 | Nabla Bio                                                                |\n",
      "|  93779 | The Chinese University of Hong Kong                                      |\n",
      "|  32382 | ITI - CERTH                                                              |\n",
      "|  49109 | LIS - Laboratoire d'Informatique & Systèmes                              |\n",
      "|   8301 | Columbia University                                                      |\n",
      "| 181282 | Nanyang Technological University                                         |\n",
      "|  38352 | Northeastern University                                                  |\n",
      "|  66688 | DCC UFMG                                                                 |\n",
      "| 104670 | <U+5929><U+6D25><U+5927><U+5B66>                                         |\n",
      "| 121465 | ENSEIRB-MATMECA                                                          |\n",
      "| 181531 | COMSATS University Islamabad, Attock Campus                              |\n",
      "| 190680 | DeepMind                                                                 |\n",
      "|  24173 | Freelance                                                                |\n"
     ]
    }
   ],
   "source": [
    "print(gh_data[\"company\"].sample(100).to_markdown())"
   ]
  },
  {
   "cell_type": "markdown",
   "id": "97dce2a3",
   "metadata": {},
   "source": [
    "# Test LamAPI"
   ]
  },
  {
   "cell_type": "code",
   "execution_count": 9,
   "id": "c8579459",
   "metadata": {},
   "outputs": [
    {
     "name": "stdout",
     "output_type": "stream",
     "text": [
      "None\n"
     ]
    }
   ],
   "source": [
    "print(API_TOKEN)"
   ]
  },
  {
   "cell_type": "code",
   "execution_count": null,
   "id": "5c675c7c",
   "metadata": {},
   "outputs": [
    {
     "name": "stdout",
     "output_type": "stream",
     "text": [
      "Results: [{'id': 'Q739704', 'name': \"École Supérieure d'Informatique\", 'description': 'private institution of higher education in Computer Science', 'types': [{'id': 'Q38723', 'name': 'higher education institution'}], 'kind': 'entity', 'NERtype': 'ORG', 'ambiguity_mention': 0.0, 'corrects_tokens': 0.833, 'ntoken_mention': 6, 'ntoken_entity': 3, 'length_mention': 45, 'length_entity': 31, 'popularity': 0.02, 'pos_score': 0.02, 'es_score': 1.0, 'ed_score': 0.67, 'jaccard_score': 0.33, 'jaccardNgram_score': 0.76}, {'id': 'Q30294364', 'name': \"Ecole Supérieure d'Informatique Appliquée\", 'description': 'organization in Casablanca, Morocco', 'types': [{'id': 'Q43229', 'name': 'organization'}], 'kind': 'entity', 'NERtype': 'ORG', 'ambiguity_mention': 0.0, 'corrects_tokens': 0.833, 'ntoken_mention': 6, 'ntoken_entity': 4, 'length_mention': 45, 'length_entity': 41, 'popularity': 0.0, 'pos_score': 0.04, 'es_score': 0.952, 'ed_score': 0.76, 'jaccard_score': 0.5, 'jaccardNgram_score': 0.79}, {'id': 'Q3578200', 'name': \"Ecole Nationale Supérieure d'Informatique\", 'description': 'organization in Algiers, Algeria', 'types': [{'id': 'Q4671277', 'name': 'academic institution'}, {'id': 'Q43229', 'name': 'organization'}], 'kind': 'entity', 'NERtype': 'ORG', 'ambiguity_mention': 0.0, 'corrects_tokens': 0.833, 'ntoken_mention': 6, 'ntoken_entity': 4, 'length_mention': 45, 'length_entity': 41, 'popularity': 0.0, 'pos_score': 0.06, 'es_score': 0.946, 'ed_score': 0.47, 'jaccard_score': 0.5, 'jaccardNgram_score': 0.79}, {'id': 'Q3578402', 'name': \"École Supérieure d'Informatique, Électronique, Automatique\", 'description': 'French graduate school of engineering', 'types': [{'id': 'Q1663017', 'name': 'engineering school'}, {'id': 'Q847027', 'name': 'grande école'}, {'id': 'Q3577960', 'name': 'doctoral school'}], 'kind': 'entity', 'NERtype': 'ORG', 'ambiguity_mention': 0.0, 'corrects_tokens': 0.833, 'ntoken_mention': 6, 'ntoken_entity': 5, 'length_mention': 45, 'length_entity': 58, 'popularity': 0.02, 'pos_score': 0.08, 'es_score': 0.794, 'ed_score': 0.57, 'jaccard_score': 0.17, 'jaccardNgram_score': 0.61}, {'id': 'Q30294397', 'name': \"Ecole Polyvalente Supérieure d'Informatique et d'Electronique\", 'description': 'organization in Fes, Morocco', 'types': [{'id': 'Q43229', 'name': 'organization'}], 'kind': 'entity', 'NERtype': 'ORG', 'ambiguity_mention': 0.0, 'corrects_tokens': 0.833, 'ntoken_mention': 6, 'ntoken_entity': 6, 'length_mention': 45, 'length_entity': 61, 'popularity': 0.0, 'pos_score': 0.1, 'es_score': 0.793, 'ed_score': 0.54, 'jaccard_score': 0.5, 'jaccardNgram_score': 0.55}, {'id': 'Q12193463', 'name': \"Institut supérieur d'informatique\", 'description': 'academic institution in Tunisia', 'types': [{'id': 'Q4671277', 'name': 'academic institution'}], 'kind': 'entity', 'NERtype': 'ORG', 'ambiguity_mention': 0.0, 'corrects_tokens': 0.833, 'ntoken_mention': 6, 'ntoken_entity': 3, 'length_mention': 45, 'length_entity': 33, 'popularity': 0.0, 'pos_score': 0.12, 'es_score': 0.747, 'ed_score': 0.49, 'jaccard_score': 0.17, 'jaccardNgram_score': 0.66}, {'id': 'Q30294338', 'name': \"Ecole Supérieure d'informatique Appliqué à la Gestion\", 'description': 'organization in Marrakesh, Morocco', 'types': [{'id': 'Q43229', 'name': 'organization'}], 'kind': 'entity', 'NERtype': 'ORG', 'ambiguity_mention': 0.0, 'corrects_tokens': 0.833, 'ntoken_mention': 6, 'ntoken_entity': 7, 'length_mention': 45, 'length_entity': 53, 'popularity': 0.0, 'pos_score': 0.16, 'es_score': 0.735, 'ed_score': 0.72, 'jaccard_score': 0.43, 'jaccardNgram_score': 0.7}, {'id': 'Q2129713', 'name': \"Ecole supérieure d'informatique réseaux et systèmes d'information\", 'description': None, 'types': [{'id': 'Q4671277', 'name': 'academic institution'}], 'kind': 'entity', 'NERtype': 'ORG', 'ambiguity_mention': 0.0, 'corrects_tokens': 0.833, 'ntoken_mention': 6, 'ntoken_entity': 7, 'length_mention': 45, 'length_entity': 65, 'popularity': 0.01, 'pos_score': 0.18, 'es_score': 0.733, 'ed_score': 0.58, 'jaccard_score': 0.43, 'jaccardNgram_score': 0.64}, {'id': 'Q110446845', 'name': \"École supérieure d'informatique et applications de Lorraine\", 'description': 'former engineering school, replaced in 2012 by Telecom Nancy', 'types': [{'id': 'Q1663017', 'name': 'engineering school'}], 'kind': 'entity', 'NERtype': 'ORG', 'ambiguity_mention': 0.0, 'corrects_tokens': 0.833, 'ntoken_mention': 6, 'ntoken_entity': 7, 'length_mention': 45, 'length_entity': 59, 'popularity': 0.0, 'pos_score': 0.2, 'es_score': 0.696, 'ed_score': 0.63, 'jaccard_score': 0.29, 'jaccardNgram_score': 0.58}, {'id': 'Q30294376', 'name': 'Ecole Supérieure des Multimédia Informatique & Réseaux', 'description': 'organization in Casablanca, Morocco', 'types': [{'id': 'Q43229', 'name': 'organization'}], 'kind': 'entity', 'NERtype': 'ORG', 'ambiguity_mention': 0.0, 'corrects_tokens': 0.833, 'ntoken_mention': 6, 'ntoken_entity': 7, 'length_mention': 45, 'length_entity': 54, 'popularity': 0.0, 'pos_score': 0.22, 'es_score': 0.685, 'ed_score': 0.52, 'jaccard_score': 0.29, 'jaccardNgram_score': 0.6}, {'id': 'Q30294392', 'name': \"Ecole Supérieure d'Informatique et de Management des Affaires\", 'description': 'organization in El Jadida, Morocco', 'types': [{'id': 'Q43229', 'name': 'organization'}], 'kind': 'entity', 'NERtype': 'ORG', 'ambiguity_mention': 0.0, 'corrects_tokens': 0.833, 'ntoken_mention': 6, 'ntoken_entity': 8, 'length_mention': 45, 'length_entity': 61, 'popularity': 0.0, 'pos_score': 0.24, 'es_score': 0.683, 'ed_score': 0.66, 'jaccard_score': 0.38, 'jaccardNgram_score': 0.61}, {'id': 'Q30294334', 'name': 'Ecole Normale Supérieure - Marrakech', 'description': 'government organization in Marrakesh, Morocco', 'types': [{'id': 'Q327333', 'name': 'government agency'}], 'kind': 'entity', 'NERtype': 'ORG', 'ambiguity_mention': 0.0, 'corrects_tokens': 0.833, 'ntoken_mention': 6, 'ntoken_entity': 5, 'length_mention': 45, 'length_entity': 36, 'popularity': 0.0, 'pos_score': 0.26, 'es_score': 0.675, 'ed_score': 0.33, 'jaccard_score': 0.5, 'jaccardNgram_score': 0.45}, {'id': 'Q123952905', 'name': 'ECOLE OUM SALAMA', 'description': 'primary school in Marrakech-Médina, Morocco', 'types': [{'id': 'Q123945716', 'name': 'public primary school in Morocco'}], 'kind': 'entity', 'NERtype': 'ORG', 'ambiguity_mention': 0.0, 'corrects_tokens': 0.833, 'ntoken_mention': 6, 'ntoken_entity': 3, 'length_mention': 45, 'length_entity': 16, 'popularity': 0.0, 'pos_score': 0.28, 'es_score': 0.671, 'ed_score': 0.33, 'jaccard_score': 0.33, 'jaccardNgram_score': 0.24}, {'id': 'Q3578202', 'name': \"École nationale supérieure d'informatique et d'analyse des systèmes\", 'description': None, 'types': [{'id': 'Q4671277', 'name': 'academic institution'}], 'kind': 'entity', 'NERtype': 'ORG', 'ambiguity_mention': 0.0, 'corrects_tokens': 0.833, 'ntoken_mention': 6, 'ntoken_entity': 8, 'length_mention': 45, 'length_entity': 67, 'popularity': 0.0, 'pos_score': 0.3, 'es_score': 0.647, 'ed_score': 0.55, 'jaccard_score': 0.25, 'jaccardNgram_score': 0.52}, {'id': 'Q104631942', 'name': \"École Supérieure de Gestion, d'Informatique et des Sciences\", 'description': 'private higher education institution in Gabon', 'types': [{'id': 'Q38723', 'name': 'higher education institution'}], 'kind': 'entity', 'NERtype': 'ORG', 'ambiguity_mention': 0.0, 'corrects_tokens': 0.833, 'ntoken_mention': 6, 'ntoken_entity': 8, 'length_mention': 45, 'length_entity': 59, 'popularity': 0.0, 'pos_score': 0.32, 'es_score': 0.647, 'ed_score': 0.58, 'jaccard_score': 0.25, 'jaccardNgram_score': 0.61}, {'id': 'Q105475478', 'name': \"École Supérieure de Télécommunication d'Informatique et de Management\", 'description': 'private higher education institution in Senegal', 'types': [{'id': 'Q38723', 'name': 'higher education institution'}], 'kind': 'entity', 'NERtype': 'ORG', 'ambiguity_mention': 0.0, 'corrects_tokens': 0.833, 'ntoken_mention': 6, 'ntoken_entity': 8, 'length_mention': 45, 'length_entity': 69, 'popularity': 0.0, 'pos_score': 0.34, 'es_score': 0.647, 'ed_score': 0.49, 'jaccard_score': 0.29, 'jaccardNgram_score': 0.5}, {'id': 'Q105094219', 'name': \"École Supérieure Privée d'Informatique et d'Administration des Affaires\", 'description': 'university in Tunisia', 'types': [{'id': 'Q3918', 'name': 'university'}], 'kind': 'entity', 'NERtype': 'ORG', 'ambiguity_mention': 0.0, 'corrects_tokens': 0.833, 'ntoken_mention': 6, 'ntoken_entity': 8, 'length_mention': 45, 'length_entity': 71, 'popularity': 0.0, 'pos_score': 0.36, 'es_score': 0.644, 'ed_score': 0.55, 'jaccard_score': 0.25, 'jaccardNgram_score': 0.47}, {'id': 'Q273487', 'name': \"Ecole Supérieure d'Audiovisuel\", 'description': 'film school', 'types': [{'id': 'Q380093', 'name': 'film school'}], 'kind': 'entity', 'NERtype': 'ORG', 'ambiguity_mention': 0.0, 'corrects_tokens': 0.833, 'ntoken_mention': 6, 'ntoken_entity': 3, 'length_mention': 45, 'length_entity': 30, 'popularity': 0.0, 'pos_score': 0.38, 'es_score': 0.643, 'ed_score': 0.51, 'jaccard_score': 0.33, 'jaccardNgram_score': 0.38}, {'id': 'Q30294405', 'name': 'Ecole Supérieure Vinci', 'description': 'organization in Rabat, Morocco', 'types': [{'id': 'Q43229', 'name': 'organization'}], 'kind': 'entity', 'NERtype': 'ORG', 'ambiguity_mention': 0.0, 'corrects_tokens': 0.833, 'ntoken_mention': 6, 'ntoken_entity': 3, 'length_mention': 45, 'length_entity': 22, 'popularity': 0.0, 'pos_score': 0.4, 'es_score': 0.643, 'ed_score': 0.44, 'jaccard_score': 0.33, 'jaccardNgram_score': 0.38}, {'id': 'Q30294400', 'name': \"Ecole Supérieure de Gestion et des Sciences de l'Informatique\", 'description': 'organization in Rabat, Morocco', 'types': [{'id': 'Q43229', 'name': 'organization'}], 'kind': 'entity', 'NERtype': 'ORG', 'ambiguity_mention': 0.0, 'corrects_tokens': 0.833, 'ntoken_mention': 6, 'ntoken_entity': 9, 'length_mention': 45, 'length_entity': 61, 'popularity': 0.0, 'pos_score': 0.42, 'es_score': 0.621, 'ed_score': 0.41, 'jaccard_score': 0.25, 'jaccardNgram_score': 0.63}, {'id': 'Q273493', 'name': \"Ecole Superieure d'Electricite\", 'description': 'former French graduate school of engineering', 'types': [{'id': 'Q1663017', 'name': 'engineering school'}, {'id': 'Q847027', 'name': 'grande école'}], 'kind': 'entity', 'NERtype': 'ORG', 'ambiguity_mention': 0.0, 'corrects_tokens': 0.833, 'ntoken_mention': 6, 'ntoken_entity': 3, 'length_mention': 45, 'length_entity': 30, 'popularity': 0.03, 'pos_score': 0.46, 'es_score': 0.611, 'ed_score': 0.44, 'jaccard_score': 0.17, 'jaccardNgram_score': 0.28}, {'id': 'Q83259', 'name': 'Ecole Normale Superieure', 'description': 'French \"grande école\" (ENS Paris)', 'types': [{'id': 'Q135436', 'name': 'école normale supérieure'}], 'kind': 'entity', 'NERtype': 'ORG', 'ambiguity_mention': 0.0, 'corrects_tokens': 0.833, 'ntoken_mention': 6, 'ntoken_entity': 3, 'length_mention': 45, 'length_entity': 24, 'popularity': 0.08, 'pos_score': 0.48, 'es_score': 0.608, 'ed_score': 0.33, 'jaccard_score': 0.17, 'jaccardNgram_score': 0.34}, {'id': 'Q123962775', 'name': 'ECOLE PRIMAIRE OUM SALAMA', 'description': 'primary school in Sidi Moumen, Morocco', 'types': [{'id': 'Q123945716', 'name': 'public primary school in Morocco'}], 'kind': 'entity', 'NERtype': 'ORG', 'ambiguity_mention': 0.0, 'corrects_tokens': 0.833, 'ntoken_mention': 6, 'ntoken_entity': 4, 'length_mention': 45, 'length_entity': 25, 'popularity': 0.0, 'pos_score': 0.5, 'es_score': 0.602, 'ed_score': 0.44, 'jaccard_score': 0.33, 'jaccardNgram_score': 0.24}, {'id': 'Q65145744', 'name': \"École supérieure privée des technologies d'informatique et de management\", 'description': 'university in Tunisia', 'types': [{'id': 'Q3918', 'name': 'university'}], 'kind': 'entity', 'NERtype': 'ORG', 'ambiguity_mention': 0.0, 'corrects_tokens': 0.833, 'ntoken_mention': 6, 'ntoken_entity': 9, 'length_mention': 45, 'length_entity': 72, 'popularity': 0.0, 'pos_score': 0.52, 'es_score': 0.602, 'ed_score': 0.47, 'jaccard_score': 0.22, 'jaccardNgram_score': 0.48}, {'id': 'Q273591', 'name': \"Ecole nationale supérieure d'informatique et de mathématiques appliquées de Grenoble\", 'description': 'French engineering College', 'types': [{'id': 'Q3117363', 'name': 'national higher engineering school'}, {'id': 'Q847027', 'name': 'grande école'}], 'kind': 'entity', 'NERtype': 'ORG', 'ambiguity_mention': 0.0, 'corrects_tokens': 0.833, 'ntoken_mention': 6, 'ntoken_entity': 10, 'length_mention': 45, 'length_entity': 84, 'popularity': 0.01, 'pos_score': 0.54, 'es_score': 0.595, 'ed_score': 0.46, 'jaccard_score': 0.33, 'jaccardNgram_score': 0.49}, {'id': 'Q97041886', 'name': 'École Normale Supérieure', 'description': 'education organization in Bujumbura, Burundi', 'types': [{'id': 'Q2385804', 'name': 'educational institution'}, {'id': 'Q38723', 'name': 'higher education institution'}], 'kind': 'entity', 'NERtype': 'ORG', 'ambiguity_mention': 0.0, 'corrects_tokens': 0.833, 'ntoken_mention': 6, 'ntoken_entity': 3, 'length_mention': 45, 'length_entity': 24, 'popularity': 0.0, 'pos_score': 0.6, 'es_score': 0.593, 'ed_score': 0.31, 'jaccard_score': 0.17, 'jaccardNgram_score': 0.41}, {'id': 'Q30266855', 'name': 'Ecole Nationale Supérieure d´Agriculture', 'description': 'education organization in Thiès, Senegal', 'types': [{'id': 'Q2385804', 'name': 'educational institution'}], 'kind': 'entity', 'NERtype': 'ORG', 'ambiguity_mention': 0.0, 'corrects_tokens': 0.833, 'ntoken_mention': 6, 'ntoken_entity': 4, 'length_mention': 45, 'length_entity': 40, 'popularity': 0.0, 'pos_score': 0.64, 'es_score': 0.585, 'ed_score': 0.29, 'jaccard_score': 0.33, 'jaccardNgram_score': 0.41}, {'id': 'Q30294373', 'name': 'Ecole Supérieure de Management', 'description': 'organization in Casablanca, Morocco', 'types': [{'id': 'Q43229', 'name': 'organization'}], 'kind': 'entity', 'NERtype': 'ORG', 'ambiguity_mention': 0.0, 'corrects_tokens': 0.833, 'ntoken_mention': 6, 'ntoken_entity': 4, 'length_mention': 45, 'length_entity': 30, 'popularity': 0.0, 'pos_score': 0.66, 'es_score': 0.585, 'ed_score': 0.51, 'jaccard_score': 0.33, 'jaccardNgram_score': 0.38}, {'id': 'Q3578447', 'name': 'Ecole supérieure de gestion', 'description': 'Paris, France', 'types': [{'id': 'Q4671277', 'name': 'academic institution'}], 'kind': 'entity', 'NERtype': 'ORG', 'ambiguity_mention': 0.0, 'corrects_tokens': 0.833, 'ntoken_mention': 6, 'ntoken_entity': 4, 'length_mention': 45, 'length_entity': 27, 'popularity': 0.0, 'pos_score': 0.68, 'es_score': 0.582, 'ed_score': 0.47, 'jaccard_score': 0.33, 'jaccardNgram_score': 0.38}, {'id': 'Q653177', 'name': 'Ecole Supérieure des Affaires', 'description': 'Business School of the University of Lille 2', 'types': [{'id': 'Q1143635', 'name': 'business school'}], 'kind': 'entity', 'NERtype': 'ORG', 'ambiguity_mention': 0.0, 'corrects_tokens': 0.833, 'ntoken_mention': 6, 'ntoken_entity': 4, 'length_mention': 45, 'length_entity': 29, 'popularity': 0.0, 'pos_score': 0.7, 'es_score': 0.582, 'ed_score': 0.51, 'jaccard_score': 0.33, 'jaccardNgram_score': 0.38}, {'id': 'Q124525859', 'name': \"Ecole Supérieure d'Agronomie Mostaganem\", 'description': 'education organization in Mostaganem, Algeria', 'types': [{'id': 'Q2385804', 'name': 'educational institution'}], 'kind': 'entity', 'NERtype': 'ORG', 'ambiguity_mention': 0.0, 'corrects_tokens': 0.833, 'ntoken_mention': 6, 'ntoken_entity': 4, 'length_mention': 45, 'length_entity': 39, 'popularity': 0.0, 'pos_score': 0.72, 'es_score': 0.582, 'ed_score': 0.56, 'jaccard_score': 0.33, 'jaccardNgram_score': 0.38}, {'id': 'Q30294374', 'name': 'Ecole Supérieure de Psychologie', 'description': 'organization in Casablanca, Morocco', 'types': [{'id': 'Q43229', 'name': 'organization'}], 'kind': 'entity', 'NERtype': 'ORG', 'ambiguity_mention': 0.0, 'corrects_tokens': 0.833, 'ntoken_mention': 6, 'ntoken_entity': 4, 'length_mention': 45, 'length_entity': 31, 'popularity': 0.0, 'pos_score': 0.74, 'es_score': 0.582, 'ed_score': 0.47, 'jaccard_score': 0.33, 'jaccardNgram_score': 0.38}, {'id': 'Q21512516', 'name': \"Ecole Nationale Supérieure d'Agronomie\", 'description': 'other organization in Algiers, Algeria', 'types': [{'id': 'Q38723', 'name': 'higher education institution'}], 'kind': 'entity', 'NERtype': 'ORG', 'ambiguity_mention': 0.0, 'corrects_tokens': 0.833, 'ntoken_mention': 6, 'ntoken_entity': 4, 'length_mention': 45, 'length_entity': 38, 'popularity': 0.01, 'pos_score': 0.76, 'es_score': 0.582, 'ed_score': 0.31, 'jaccard_score': 0.33, 'jaccardNgram_score': 0.41}, {'id': 'Q30294340', 'name': 'Ecole Normale Supérieure Casablanca', 'description': 'organization in Casablanca, Morocco', 'types': [{'id': 'Q43229', 'name': 'organization'}], 'kind': 'entity', 'NERtype': 'ORG', 'ambiguity_mention': 0.0, 'corrects_tokens': 0.833, 'ntoken_mention': 6, 'ntoken_entity': 4, 'length_mention': 45, 'length_entity': 35, 'popularity': 0.0, 'pos_score': 0.78, 'es_score': 0.579, 'ed_score': 0.33, 'jaccard_score': 0.33, 'jaccardNgram_score': 0.45}, {'id': 'Q30294195', 'name': 'Ecole Supérieure de Banque', 'description': 'organization in Algiers, Algeria', 'types': [{'id': 'Q43229', 'name': 'organization'}], 'kind': 'entity', 'NERtype': 'ORG', 'ambiguity_mention': 0.0, 'corrects_tokens': 0.833, 'ntoken_mention': 6, 'ntoken_entity': 4, 'length_mention': 45, 'length_entity': 26, 'popularity': 0.0, 'pos_score': 0.8, 'es_score': 0.579, 'ed_score': 0.49, 'jaccard_score': 0.33, 'jaccardNgram_score': 0.41}, {'id': 'Q3578288', 'name': 'Ecole normale supérieure Yaoundé', 'description': 'Cameroon', 'types': [{'id': 'Q4671277', 'name': 'academic institution'}], 'kind': 'entity', 'NERtype': 'ORG', 'ambiguity_mention': 0.0, 'corrects_tokens': 0.833, 'ntoken_mention': 6, 'ntoken_entity': 4, 'length_mention': 45, 'length_entity': 32, 'popularity': 0.0, 'pos_score': 0.82, 'es_score': 0.579, 'ed_score': 0.31, 'jaccard_score': 0.33, 'jaccardNgram_score': 0.45}, {'id': 'Q30294398', 'name': \"Ecole Supérieure d'architecture d'Interieur\", 'description': 'organization in Rabat, Morocco', 'types': [{'id': 'Q43229', 'name': 'organization'}], 'kind': 'entity', 'NERtype': 'ORG', 'ambiguity_mention': 0.0, 'corrects_tokens': 0.833, 'ntoken_mention': 6, 'ntoken_entity': 4, 'length_mention': 45, 'length_entity': 43, 'popularity': 0.0, 'pos_score': 0.84, 'es_score': 0.579, 'ed_score': 0.49, 'jaccard_score': 0.33, 'jaccardNgram_score': 0.45}, {'id': 'Q30294402', 'name': 'Ecole Supérieure des Télécommunications', 'description': 'organization in Rabat, Morocco', 'types': [{'id': 'Q43229', 'name': 'organization'}], 'kind': 'entity', 'NERtype': 'ORG', 'ambiguity_mention': 0.0, 'corrects_tokens': 0.833, 'ntoken_mention': 6, 'ntoken_entity': 4, 'length_mention': 45, 'length_entity': 39, 'popularity': 0.0, 'pos_score': 0.86, 'es_score': 0.579, 'ed_score': 0.47, 'jaccard_score': 0.33, 'jaccardNgram_score': 0.41}, {'id': 'Q3578391', 'name': \"Ecole supérieure d'art | Dunkerque - Tourcoing\", 'description': 'French art school', 'types': [{'id': 'Q383092', 'name': 'art school'}], 'kind': 'entity', 'NERtype': 'ORG', 'ambiguity_mention': 0.0, 'corrects_tokens': 0.833, 'ntoken_mention': 6, 'ntoken_entity': 7, 'length_mention': 45, 'length_entity': 46, 'popularity': 0.0, 'pos_score': 0.88, 'es_score': 0.577, 'ed_score': 0.46, 'jaccard_score': 0.43, 'jaccardNgram_score': 0.41}, {'id': 'Q90969529', 'name': 'Salama Salama', 'description': 'researcher (ORCID 0000-0001-6129-6616)', 'types': [{'id': 'Q5', 'name': 'human'}, {'id': 'Q1650915', 'name': 'researcher'}], 'kind': 'entity', 'NERtype': 'PERS', 'ambiguity_mention': 0.0, 'corrects_tokens': 0.833, 'ntoken_mention': 6, 'ntoken_entity': 2, 'length_mention': 45, 'length_entity': 13, 'popularity': 0.0, 'pos_score': 0.92, 'es_score': 0.571, 'ed_score': 0.22, 'jaccard_score': 0.17, 'jaccardNgram_score': 0.14}, {'id': 'Q3578420', 'name': \"École supérieure d'ingénieurs en informatique et génie des télécommunications\", 'description': 'school in Villejuif, France', 'types': [{'id': 'Q3914', 'name': 'school'}], 'kind': 'entity', 'NERtype': 'ORG', 'ambiguity_mention': 0.0, 'corrects_tokens': 0.833, 'ntoken_mention': 6, 'ntoken_entity': 9, 'length_mention': 45, 'length_entity': 77, 'popularity': 0.0, 'pos_score': 0.94, 'es_score': 0.561, 'ed_score': 0.47, 'jaccard_score': 0.11, 'jaccardNgram_score': 0.5}, {'id': 'Q3578271', 'name': 'Ecole nationale superieure veterinaire', 'description': 'veterinary higher school in Algiers', 'types': [{'id': 'Q3918', 'name': 'university'}], 'kind': 'entity', 'NERtype': 'ORG', 'ambiguity_mention': 0.0, 'corrects_tokens': 0.833, 'ntoken_mention': 6, 'ntoken_entity': 4, 'length_mention': 45, 'length_entity': 38, 'popularity': 0.0, 'pos_score': 1.0, 'es_score': 0.55, 'ed_score': 0.27, 'jaccard_score': 0.17, 'jaccardNgram_score': 0.31}]\n"
     ]
    }
   ],
   "source": [
    "# Load .env file\n",
    "load_dotenv(\"..\")\n",
    "\n",
    "# Read variables from .env\n",
    "endpoint = os.getenv(\"ENTITY_RETRIEVAL_ENDPOINT\")\n",
    "token = os.getenv(\"ENTITY_RETRIEVAL_TOKEN\")\n",
    "\n",
    "# Define query parameters\n",
    "params = {\n",
    "    \"name\": \"Ecole Supérieure d'Informatique Salama - ESIS  \",\n",
    "    \"limit\": \"50\",\n",
    "    \"kind\": \"entity\",\n",
    "    \"kg\": \"wikidata\",\n",
    "    \"fuzzy\": \"True\",\n",
    "    \"language\": \"en\",\n",
    "    \"cache\": \"False\",\n",
    "    \"token\": token\n",
    "}\n",
    "\n",
    "# Send GET request\n",
    "response = requests.get(endpoint, params=params)\n",
    "\n",
    "# Handle response\n",
    "if response.status_code == 200:\n",
    "    print(\"Results:\", response.json())\n",
    "else:\n",
    "    print(f\"Request failed: {response.status_code}\")\n",
    "    print(response.text)\n"
   ]
  },
  {
   "cell_type": "code",
   "execution_count": 18,
   "id": "88469a0e",
   "metadata": {},
   "outputs": [
    {
     "data": {
      "text/plain": [
       "{'id': 'Q739704',\n",
       " 'name': \"École Supérieure d'Informatique\",\n",
       " 'description': 'private institution of higher education in Computer Science',\n",
       " 'types': [{'id': 'Q38723', 'name': 'higher education institution'}],\n",
       " 'kind': 'entity',\n",
       " 'NERtype': 'ORG',\n",
       " 'ambiguity_mention': 0.0,\n",
       " 'corrects_tokens': 0.833,\n",
       " 'ntoken_mention': 6,\n",
       " 'ntoken_entity': 3,\n",
       " 'length_mention': 45,\n",
       " 'length_entity': 31,\n",
       " 'popularity': 0.02,\n",
       " 'pos_score': 0.02,\n",
       " 'es_score': 1.0,\n",
       " 'ed_score': 0.67,\n",
       " 'jaccard_score': 0.33,\n",
       " 'jaccardNgram_score': 0.76}"
      ]
     },
     "execution_count": 18,
     "metadata": {},
     "output_type": "execute_result"
    }
   ],
   "source": [
    "response.json()[0]"
   ]
  },
  {
   "cell_type": "code",
   "execution_count": 20,
   "id": "ffc098ea",
   "metadata": {},
   "outputs": [
    {
     "name": "stdout",
     "output_type": "stream",
     "text": [
      "Label: Ilinden\n",
      "Description: Wikimedia disambiguation page\n"
     ]
    }
   ],
   "source": [
    "from SPARQLWrapper import SPARQLWrapper, JSON\n",
    "\n",
    "def get_entity_label_description(entity_id):\n",
    "    sparql = SPARQLWrapper(\"https://query.wikidata.org/sparql\")\n",
    "    query = f\"\"\"\n",
    "    SELECT ?label ?description WHERE {{\n",
    "      wd:{entity_id} rdfs:label ?label ;\n",
    "                      schema:description ?description .\n",
    "      FILTER (lang(?label) = \"en\")\n",
    "      FILTER (lang(?description) = \"en\")\n",
    "    }}\n",
    "    \"\"\"\n",
    "    sparql.setQuery(query)\n",
    "    sparql.setReturnFormat(JSON)\n",
    "    results = sparql.query().convert()\n",
    "\n",
    "    for result in results[\"results\"][\"bindings\"]:\n",
    "        label = result[\"label\"][\"value\"]\n",
    "        description = result[\"description\"][\"value\"]\n",
    "        return label, description\n",
    "    return None, None\n",
    "\n",
    "# Example\n",
    "label, desc = get_entity_label_description(\"Q415678\")\n",
    "print(f\"Label: {label}\")\n",
    "print(f\"Description: {desc}\")\n"
   ]
  }
 ],
 "metadata": {
  "kernelspec": {
   "display_name": "venv",
   "language": "python",
   "name": "python3"
  },
  "language_info": {
   "codemirror_mode": {
    "name": "ipython",
    "version": 3
   },
   "file_extension": ".py",
   "mimetype": "text/x-python",
   "name": "python",
   "nbconvert_exporter": "python",
   "pygments_lexer": "ipython3",
   "version": "3.12.10"
  }
 },
 "nbformat": 4,
 "nbformat_minor": 5
}
