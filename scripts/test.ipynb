{
 "cells": [
  {
   "cell_type": "code",
   "execution_count": 2,
   "metadata": {},
   "outputs": [],
   "source": [
    "import pandas as pd"
   ]
  },
  {
   "cell_type": "code",
   "execution_count": 3,
   "metadata": {},
   "outputs": [],
   "source": [
    "df = pd.read_pickle(\"B:/Projects/alligator/Data/filtered_all_datasets_gt.pkl\")"
   ]
  },
  {
   "cell_type": "code",
   "execution_count": 10,
   "metadata": {},
   "outputs": [
    {
     "data": {
      "text/html": [
       "<div>\n",
       "<style scoped>\n",
       "    .dataframe tbody tr th:only-of-type {\n",
       "        vertical-align: middle;\n",
       "    }\n",
       "\n",
       "    .dataframe tbody tr th {\n",
       "        vertical-align: top;\n",
       "    }\n",
       "\n",
       "    .dataframe thead th {\n",
       "        text-align: right;\n",
       "    }\n",
       "</style>\n",
       "<table border=\"1\" class=\"dataframe\">\n",
       "  <thead>\n",
       "    <tr style=\"text-align: right;\">\n",
       "      <th></th>\n",
       "      <th>0</th>\n",
       "      <th>1</th>\n",
       "      <th>2</th>\n",
       "      <th>3</th>\n",
       "      <th>4</th>\n",
       "      <th>dataset_name</th>\n",
       "    </tr>\n",
       "  </thead>\n",
       "  <tbody>\n",
       "    <tr>\n",
       "      <th>13</th>\n",
       "      <td>8Y8A14P8</td>\n",
       "      <td>1</td>\n",
       "      <td>0</td>\n",
       "      <td>http://www.wikidata.org/entity/Q15434055</td>\n",
       "      <td>[(Q35749, parliament)]</td>\n",
       "      <td>HardTablesR2</td>\n",
       "    </tr>\n",
       "    <tr>\n",
       "      <th>14</th>\n",
       "      <td>8Y8A14P8</td>\n",
       "      <td>2</td>\n",
       "      <td>0</td>\n",
       "      <td>http://www.wikidata.org/entity/Q1112381</td>\n",
       "      <td>[(Q35749, parliament), (Q37002670, unicameral ...</td>\n",
       "      <td>HardTablesR2</td>\n",
       "    </tr>\n",
       "    <tr>\n",
       "      <th>15</th>\n",
       "      <td>8Y8A14P8</td>\n",
       "      <td>3</td>\n",
       "      <td>0</td>\n",
       "      <td>http://www.wikidata.org/entity/Q1501976</td>\n",
       "      <td>[(Q375928, lower house)]</td>\n",
       "      <td>HardTablesR2</td>\n",
       "    </tr>\n",
       "    <tr>\n",
       "      <th>16</th>\n",
       "      <td>8Y8A14P8</td>\n",
       "      <td>4</td>\n",
       "      <td>0</td>\n",
       "      <td>http://www.wikidata.org/entity/Q48800282</td>\n",
       "      <td>[(Q35749, parliament)]</td>\n",
       "      <td>HardTablesR2</td>\n",
       "    </tr>\n",
       "    <tr>\n",
       "      <th>17</th>\n",
       "      <td>8Y8A14P8</td>\n",
       "      <td>5</td>\n",
       "      <td>0</td>\n",
       "      <td>http://www.wikidata.org/entity/Q56612884</td>\n",
       "      <td>[(Q35749, parliament)]</td>\n",
       "      <td>HardTablesR2</td>\n",
       "    </tr>\n",
       "  </tbody>\n",
       "</table>\n",
       "</div>"
      ],
      "text/plain": [
       "           0  1  2                                         3  \\\n",
       "13  8Y8A14P8  1  0  http://www.wikidata.org/entity/Q15434055   \n",
       "14  8Y8A14P8  2  0   http://www.wikidata.org/entity/Q1112381   \n",
       "15  8Y8A14P8  3  0   http://www.wikidata.org/entity/Q1501976   \n",
       "16  8Y8A14P8  4  0  http://www.wikidata.org/entity/Q48800282   \n",
       "17  8Y8A14P8  5  0  http://www.wikidata.org/entity/Q56612884   \n",
       "\n",
       "                                                    4  dataset_name  \n",
       "13                             [(Q35749, parliament)]  HardTablesR2  \n",
       "14  [(Q35749, parliament), (Q37002670, unicameral ...  HardTablesR2  \n",
       "15                           [(Q375928, lower house)]  HardTablesR2  \n",
       "16                             [(Q35749, parliament)]  HardTablesR2  \n",
       "17                             [(Q35749, parliament)]  HardTablesR2  "
      ]
     },
     "execution_count": 10,
     "metadata": {},
     "output_type": "execute_result"
    }
   ],
   "source": [
    "df.head()"
   ]
  },
  {
   "cell_type": "code",
   "execution_count": 15,
   "metadata": {},
   "outputs": [
    {
     "data": {
      "text/plain": [
       "[('000COX8L', 1),\n",
       " ('000COX8L', 2),\n",
       " ('000COX8L', 3),\n",
       " ('000COX8L', 4),\n",
       " ('000COX8L', 5),\n",
       " ('000COX8L', 6),\n",
       " ('000COX8L', 7),\n",
       " ('001OFAHZ', 1),\n",
       " ('001OFAHZ', 2),\n",
       " ('007O51ZZ', 1)]"
      ]
     },
     "execution_count": 15,
     "metadata": {},
     "output_type": "execute_result"
    }
   ],
   "source": [
    "# group by column 0 and 1\n",
    "grouped = df.groupby([0, 1])\n",
    "\n",
    "groups = list(grouped.groups.keys())\n",
    "groups[:10]\n"
   ]
  },
  {
   "cell_type": "code",
   "execution_count": 16,
   "metadata": {},
   "outputs": [
    {
     "data": {
      "text/html": [
       "<div>\n",
       "<style scoped>\n",
       "    .dataframe tbody tr th:only-of-type {\n",
       "        vertical-align: middle;\n",
       "    }\n",
       "\n",
       "    .dataframe tbody tr th {\n",
       "        vertical-align: top;\n",
       "    }\n",
       "\n",
       "    .dataframe thead th {\n",
       "        text-align: right;\n",
       "    }\n",
       "</style>\n",
       "<table border=\"1\" class=\"dataframe\">\n",
       "  <thead>\n",
       "    <tr style=\"text-align: right;\">\n",
       "      <th></th>\n",
       "      <th>0</th>\n",
       "      <th>1</th>\n",
       "      <th>2</th>\n",
       "      <th>3</th>\n",
       "      <th>4</th>\n",
       "      <th>dataset_name</th>\n",
       "    </tr>\n",
       "  </thead>\n",
       "  <tbody>\n",
       "    <tr>\n",
       "      <th>31931</th>\n",
       "      <td>000COX8L</td>\n",
       "      <td>1</td>\n",
       "      <td>0</td>\n",
       "      <td>Q67639471</td>\n",
       "      <td>[(Q865588, committee)]</td>\n",
       "      <td>SemTab2020_Data_CEA_Round1</td>\n",
       "    </tr>\n",
       "  </tbody>\n",
       "</table>\n",
       "</div>"
      ],
      "text/plain": [
       "              0  1  2          3                       4  \\\n",
       "31931  000COX8L  1  0  Q67639471  [(Q865588, committee)]   \n",
       "\n",
       "                     dataset_name  \n",
       "31931  SemTab2020_Data_CEA_Round1  "
      ]
     },
     "execution_count": 16,
     "metadata": {},
     "output_type": "execute_result"
    }
   ],
   "source": [
    "grouped.get_group(('000COX8L', 1))"
   ]
  }
 ],
 "metadata": {
  "kernelspec": {
   "display_name": "base",
   "language": "python",
   "name": "python3"
  },
  "language_info": {
   "codemirror_mode": {
    "name": "ipython",
    "version": 3
   },
   "file_extension": ".py",
   "mimetype": "text/x-python",
   "name": "python",
   "nbconvert_exporter": "python",
   "pygments_lexer": "ipython3",
   "version": "3.11.5"
  }
 },
 "nbformat": 4,
 "nbformat_minor": 2
}
